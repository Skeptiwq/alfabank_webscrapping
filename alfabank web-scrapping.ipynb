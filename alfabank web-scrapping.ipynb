{
 "cells": [
  {
   "cell_type": "code",
   "execution_count": 1,
   "id": "17d2ad09",
   "metadata": {},
   "outputs": [
    {
     "name": "stdout",
     "output_type": "stream",
     "text": [
      "1 страница обработана\n",
      "2 страница обработана\n",
      "3 страница обработана\n",
      "4 страница обработана\n",
      "5 страница обработана\n",
      "6 страница обработана\n",
      "7 страница обработана\n",
      "8 страница обработана\n",
      "9 страница обработана\n",
      "10 страница обработана\n",
      "11 страница обработана\n",
      "12 страница обработана\n",
      "13 страница обработана\n",
      "14 страница обработана\n",
      "15 страница обработана\n",
      "16 страница обработана\n",
      "17 страница обработана\n",
      "18 страница обработана\n",
      "19 страница обработана\n",
      "20 страница обработана\n",
      "------------------------------------------------------\n",
      "Итого обработано отзывов: 501\n"
     ]
    }
   ],
   "source": [
    "#код, который вытягивает все слова с 500 отзывов и считает количество каждого слова \n",
    "#максимальное прибавление слова для одного отзыва = 1\n",
    "import requests\n",
    "from bs4 import BeautifulSoup\n",
    "import re\n",
    "c = 0\n",
    "w_counter_all = {}\n",
    "\n",
    "for i in range(1, 21):\n",
    "    url = \"https://www.banki.ru/services/responses/list/product/debitcards/?page=\" + str(i) + \"&is_countable=on&rate[]=1&rate[]=2\"\n",
    "    response = requests.get(url, headers = {'User-agent': 'your bot 0.1'}, cookies = {'cookie': 'value'})\n",
    "    soup = BeautifulSoup(response.text, \"lxml\")\n",
    "    if response.status_code == 429:\n",
    "        time.sleep(int(response.headers[\"Retry-After\"]))\n",
    "    list_links = []\n",
    "    for part in soup.find_all(\"a\", href=True):\n",
    "        list_links.append(part[\"href\"]) #or list_links.append(link.get(\"href\"))\n",
    "\n",
    "    string = \" \".join(list_links)\n",
    "\n",
    "    r_links = re.findall(\"/services/responses/bank/response/[\\w]*/\", str(soup))\n",
    "    links = sorted(list(set(r_links)), reverse = True)    \n",
    "    c += len(links)\n",
    "    \n",
    "    feedback = []\n",
    "\n",
    "    for link in links:\n",
    "        response = requests.get(\"https://www.banki.ru\"+link, headers = {'User-agent': 'your bot 0.2'}, cookies = {'cookie': 'value'})\n",
    "        soup = BeautifulSoup(response.text, \"lxml\")\n",
    "        if response.status_code == 429:\n",
    "            time.sleep(int(response.headers[\"Retry-After\"]))\n",
    "            \n",
    "        data = re.findall('<div class=\"lb1789875 markdown-inside markdown-inside--list-type_circle-fill\">[^_]*</p>', str(soup))\n",
    "        \n",
    "        if len(data) > 0:\n",
    "            data = \"\".join(re.findall(\"[А-Яа-я\\d\\s.*]\", str(data[0])))\n",
    "            words = data.split() \n",
    "            \n",
    "        w_counter_specific = {}\n",
    "        \n",
    "        for word in words:\n",
    "            word = word.strip(\" .\")\n",
    "            if not word in w_counter_specific:\n",
    "                w_counter_specific[word] = 1\n",
    "                if word in w_counter_all:\n",
    "                    w_counter_all[word] += 1\n",
    "                else:\n",
    "                    w_counter_all[word] = 1\n",
    "    print(f\"{i} страница обработана\")\n",
    "    \n",
    "print(\"------------------------------------------------------\")\n",
    "print(f\"Итого обработано отзывов: {c}\")"
   ]
  },
  {
   "cell_type": "code",
   "execution_count": 2,
   "id": "77f11415",
   "metadata": {},
   "outputs": [],
   "source": [
    "#сортируем словарь всех слов, располагая самые часто употребляющиеся в начале\n",
    "w_counter_all = sorted(w_counter_all.items(), key = lambda item: item[1], reverse = True)"
   ]
  },
  {
   "cell_type": "code",
   "execution_count": 8,
   "id": "9ff37242",
   "metadata": {},
   "outputs": [
    {
     "name": "stdout",
     "output_type": "stream",
     "text": [
      "[('1789875', 501), ('в', 479), ('не', 479), ('и', 464), ('на', 436), ('что', 399), ('с', 345), ('по', 324), ('банка', 307), ('я', 297), ('карту', 285), ('мне', 248), ('банк', 247), ('карты', 241), ('как', 239), ('так', 228), ('за', 225), ('В', 218), ('но', 215), ('это', 214)]\n"
     ]
    }
   ],
   "source": [
    "#посмотрим на первые 20 элементов полученного списка \n",
    "print(w_counter_all[:20])"
   ]
  },
  {
   "cell_type": "code",
   "execution_count": 20,
   "id": "1ab07d11",
   "metadata": {},
   "outputs": [
    {
     "name": "stdout",
     "output_type": "stream",
     "text": [
      "Отзывов со словом...\n",
      "\n",
      "\n",
      "акции: 56\n",
      "бонусы: 16\n",
      "кэшбек: 16\n",
      "кэшбэк: 15\n",
      "акцию: 14\n",
      "бонус: 13\n",
      "кэшбэка: 12\n",
      "акция: 11\n",
      "бонусов: 10\n",
      "акцией: 8\n",
      "кэшбека: 8\n",
      "бонуса: 7\n",
      "кешбэк: 6\n",
      "кешбэка: 6\n",
      "\n",
      "\n",
      "из 501\n"
     ]
    }
   ],
   "source": [
    "#посмотрим на слова, связанные с бонусами\n",
    "print(\"Отзывов со словом...\")\n",
    "print(\"\\n\")\n",
    "for word, value in w_counter_all:\n",
    "    if word in ['акции', 'бонусы', 'кэшбек', 'кэшбэк', 'бонус', 'акцию', 'акция', 'бонусов', 'акцией', 'кэшбэка', 'кешбэк', 'кешбэка', 'бонуса', 'кэшбека']:\n",
    "        print(f\"{word}: {value}\")\n",
    "print(\"\\n\")\n",
    "print(f\"из {c}\")"
   ]
  },
  {
   "cell_type": "code",
   "execution_count": 23,
   "id": "eee48a65",
   "metadata": {},
   "outputs": [
    {
     "name": "stdout",
     "output_type": "stream",
     "text": [
      "1 страница обработана\n",
      "2 страница обработана\n",
      "3 страница обработана\n",
      "4 страница обработана\n",
      "5 страница обработана\n",
      "6 страница обработана\n",
      "7 страница обработана\n",
      "8 страница обработана\n",
      "9 страница обработана\n",
      "10 страница обработана\n",
      "11 страница обработана\n",
      "12 страница обработана\n",
      "13 страница обработана\n",
      "14 страница обработана\n",
      "15 страница обработана\n",
      "16 страница обработана\n",
      "17 страница обработана\n",
      "18 страница обработана\n",
      "19 страница обработана\n",
      "20 страница обработана\n",
      "------------------------------------------------------\n",
      "Итого обработано отзывов: 501\n"
     ]
    }
   ],
   "source": [
    "#код, который считает количество отзывов, в которых упоминаются слова, связанные с неначислением бонусов\n",
    "\n",
    "#слова, связанные с неначислением бонусов: 'акции', 'бонусы', 'кэшбек', 'кэшбэк', 'бонус', 'акцию', 'акция', 'бонусов', 'акцией', 'кэшбэка', 'кешбэк', 'кешбэка', 'бонуса', 'кэшбека'\n",
    "#слова были получены из предыдущего кода\n",
    "\n",
    "#если в отзыве встретилось одно из перечисленных слов => переменная не начислили бонусы +1 => переходим к следующему отзыву\n",
    "#таким образом считаем количество отзывов про бонусы, а не количество слов про бонусы в отзывах\n",
    "\n",
    "import requests\n",
    "from bs4 import BeautifulSoup\n",
    "import re\n",
    "c = 0\n",
    "w_counter = {\"не начислили бонусы\": 0}\n",
    "\n",
    "for i in range(1, 21):\n",
    "    url = \"https://www.banki.ru/services/responses/list/product/debitcards/?page=\" + str(i) + \"&is_countable=on&rate[]=1&rate[]=2\"\n",
    "    response = requests.get(url, headers = {'User-agent': 'your bot 0.1'}, cookies = {'cookie': 'value'})\n",
    "    soup = BeautifulSoup(response.text, \"lxml\")\n",
    "    if response.status_code == 429:\n",
    "        time.sleep(int(response.headers[\"Retry-After\"]))\n",
    "    list_links = []\n",
    "    for part in soup.find_all(\"a\", href=True):\n",
    "        list_links.append(part[\"href\"]) #or list_links.append(link.get(\"href\"))\n",
    "\n",
    "    string = \" \".join(list_links)\n",
    "\n",
    "    r_links = re.findall(\"/services/responses/bank/response/[\\w]*/\", str(soup))\n",
    "    links = sorted(list(set(r_links)), reverse = True)    \n",
    "    c += len(links)\n",
    "    \n",
    "    feedback = []\n",
    "\n",
    "    for link in links:\n",
    "        response = requests.get(\"https://www.banki.ru\"+link, headers = {'User-agent': 'your bot 0.2'}, cookies = {'cookie': 'value'})\n",
    "        soup = BeautifulSoup(response.text, \"lxml\")\n",
    "        if response.status_code == 429:\n",
    "            time.sleep(int(response.headers[\"Retry-After\"]))\n",
    "            \n",
    "        data = re.findall('<div class=\"lb1789875 markdown-inside markdown-inside--list-type_circle-fill\">[^_]*</p>', str(soup))\n",
    "        \n",
    "        if len(data) > 0:\n",
    "            data = \"\".join(re.findall(\"[А-Яа-я\\d\\s.*]\", str(data[0])))\n",
    "            words = data.split() \n",
    "        \n",
    "        for word in words:\n",
    "            word = word.strip(\" .\")\n",
    "            if word in ['акции', 'бонусы', 'кэшбек', 'кэшбэк', 'бонус', 'акцию', 'акция', 'бонусов', 'акцией', 'кэшбэка', 'кешбэк', 'кешбэка', 'бонуса', 'кэшбека']:\n",
    "                w_counter[\"не начислили бонусы\"] += 1\n",
    "                break\n",
    "    print(f\"{i} страница обработана\")\n",
    "    \n",
    "print(\"------------------------------------------------------\")\n",
    "print(f\"Итого обработано отзывов: {c}\")"
   ]
  },
  {
   "cell_type": "code",
   "execution_count": 33,
   "id": "94be38ec",
   "metadata": {},
   "outputs": [
    {
     "name": "stdout",
     "output_type": "stream",
     "text": [
      "Отзывов, в которых не начислили бонусы: 99/501\n",
      "То есть 19.760479041916167%\n"
     ]
    }
   ],
   "source": [
    "print(f\"Отзывов, в которых не начислили бонусы: {w_counter['не начислили бонусы']}/{int(c)}\")\n",
    "print(f\"То есть {w_counter['не начислили бонусы']/c*100}%\")"
   ]
  }
 ],
 "metadata": {
  "kernelspec": {
   "display_name": "Python 3 (ipykernel)",
   "language": "python",
   "name": "python3"
  },
  "language_info": {
   "codemirror_mode": {
    "name": "ipython",
    "version": 3
   },
   "file_extension": ".py",
   "mimetype": "text/x-python",
   "name": "python",
   "nbconvert_exporter": "python",
   "pygments_lexer": "ipython3",
   "version": "3.9.12"
  }
 },
 "nbformat": 4,
 "nbformat_minor": 5
}
